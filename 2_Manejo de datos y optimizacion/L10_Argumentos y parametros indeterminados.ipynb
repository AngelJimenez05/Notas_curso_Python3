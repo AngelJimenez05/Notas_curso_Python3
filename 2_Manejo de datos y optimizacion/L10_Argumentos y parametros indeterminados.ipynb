{
 "cells": [
  {
   "cell_type": "markdown",
   "metadata": {},
   "source": [
    "# Argumentos y parámetros indeterminados\n",
    "\n",
    "\n",
    "## Por posición\n",
    "- Uso de tuplas en los argumentos:"
   ]
  },
  {
   "cell_type": "code",
   "execution_count": 1,
   "metadata": {},
   "outputs": [
    {
     "name": "stdout",
     "output_type": "stream",
     "text": [
      "5\n",
      "Hola\n",
      "[1, 2, 3, 4, 5]\n"
     ]
    }
   ],
   "source": [
    "def indeterminados_posicion(*args): # Nota el \"*\"\n",
    "    for arg in args: # Observa que args se toma como una tipo \"lista\"\n",
    "        print(arg)\n",
    "    \n",
    "indeterminados_posicion(5,\"Hola\",[1,2,3,4,5])"
   ]
  },
  {
   "cell_type": "markdown",
   "metadata": {},
   "source": [
    "## Por nombre\n",
    "- Uso de diccionarios:"
   ]
  },
  {
   "cell_type": "code",
   "execution_count": 2,
   "metadata": {},
   "outputs": [
    {
     "name": "stdout",
     "output_type": "stream",
     "text": [
      "{'n': 5, 'c': 'Hola', 'l': [1, 2, 3, 4, 5], 't': (1, 2, 3)}\n"
     ]
    }
   ],
   "source": [
    "def indeterminados_nombre(**kwargs): # Nota los dos \"**\"\n",
    "    print(kwargs) \n",
    "indeterminados_nombre(n=5,c=\"Hola\",l=[1,2,3,4,5], t=(1,2,3))\n",
    "# Se imprime todo en forma de diccionario"
   ]
  },
  {
   "cell_type": "code",
   "execution_count": 3,
   "metadata": {},
   "outputs": [
    {
     "name": "stdout",
     "output_type": "stream",
     "text": [
      "n\n",
      "c\n",
      "l\n"
     ]
    }
   ],
   "source": [
    "# Se imprimen sólo las claves\n",
    "def indeterminados_nombre(**kwargs):\n",
    "    for kwarg in kwargs:\n",
    "        print(kwarg)\n",
    "indeterminados_nombre(n=5,c=\"Hola\",l=[1,2,3,4,5])   "
   ]
  },
  {
   "cell_type": "code",
   "execution_count": 4,
   "metadata": {},
   "outputs": [
    {
     "name": "stdout",
     "output_type": "stream",
     "text": [
      "n   5\n",
      "c   Hola\n",
      "l   [1, 2, 3, 4, 5]\n",
      "t   (1, 2, 3)\n"
     ]
    }
   ],
   "source": [
    "# Al ser un diccionario, se pueden imprimir tanto claves como valores:\n",
    "def indeterminados_nombre(**kwargs):\n",
    "    for kwarg in kwargs:\n",
    "        print(kwarg,\" \", kwargs[kwarg])\n",
    "indeterminados_nombre(n=5,c=\"Hola\",l=[1,2,3,4,5], t=(1,2,3))"
   ]
  },
  {
   "cell_type": "markdown",
   "metadata": {},
   "source": [
    "## Por posición y nombre a la vez"
   ]
  },
  {
   "cell_type": "markdown",
   "metadata": {},
   "source": [
    "- Se realizará la suma total de los argumentos (*args) y la impresión de los kwargs:"
   ]
  },
  {
   "cell_type": "code",
   "execution_count": 5,
   "metadata": {},
   "outputs": [
    {
     "name": "stdout",
     "output_type": "stream",
     "text": [
      "Sumatorio indeterminado es: 390.56\n",
      "Nombre : Hector\n",
      "Edad : 27\n"
     ]
    }
   ],
   "source": [
    "def super_funcion(*args,**kwargs):\n",
    "    t = 0 # Inicializando la suma\n",
    "    for arg in args: # args será una lista de puros números\n",
    "        t+=arg\n",
    "    print(\"Sumatorio indeterminado es: {}\".format(t))\n",
    "    for kwarg in kwargs: # kwargs es tomado como un diccionario\n",
    "        print(kwarg,\":\", kwargs[kwarg])\n",
    "\n",
    "super_funcion(10,50,-1,1.56,10,20,300,Nombre=\"Hector\",Edad=27)"
   ]
  },
  {
   "cell_type": "code",
   "execution_count": null,
   "metadata": {},
   "outputs": [],
   "source": []
  }
 ],
 "metadata": {
  "kernelspec": {
   "display_name": "Python 3",
   "language": "python",
   "name": "python3"
  },
  "language_info": {
   "codemirror_mode": {
    "name": "ipython",
    "version": 3
   },
   "file_extension": ".py",
   "mimetype": "text/x-python",
   "name": "python",
   "nbconvert_exporter": "python",
   "pygments_lexer": "ipython3",
   "version": "3.7.7"
  }
 },
 "nbformat": 4,
 "nbformat_minor": 1
}
