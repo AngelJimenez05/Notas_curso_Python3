{
 "cells": [
  {
   "cell_type": "markdown",
   "metadata": {},
   "source": [
    "# Paso por valor y paso por referencia"
   ]
  },
  {
   "cell_type": "markdown",
   "metadata": {},
   "source": [
    "### Ejemplo paso por valor:\n",
    "- No cambia directamente el valor de la variable.\n",
    "- Aplica sólo a **enteros, flotantes, cadenas y lógicos.**"
   ]
  },
  {
   "cell_type": "code",
   "execution_count": 1,
   "metadata": {},
   "outputs": [
    {
     "data": {
      "text/plain": [
       "10"
      ]
     },
     "execution_count": 1,
     "metadata": {},
     "output_type": "execute_result"
    }
   ],
   "source": [
    "def doblar_valor(numero):\n",
    "    numero*=2\n",
    "    \n",
    "n = 10\n",
    "doblar_valor(n)\n",
    "n"
   ]
  },
  {
   "cell_type": "markdown",
   "metadata": {},
   "source": [
    "### Ejemplo paso por referencia:\n",
    "- Si cambia el valor de la variable.\n",
    "- Aplica sólo a **listas, diccionarios, conjuntos**."
   ]
  },
  {
   "cell_type": "code",
   "execution_count": 2,
   "metadata": {},
   "outputs": [
    {
     "data": {
      "text/plain": [
       "[20, 100, 200]"
      ]
     },
     "execution_count": 2,
     "metadata": {},
     "output_type": "execute_result"
    }
   ],
   "source": [
    "def doblar_valores(numeros):\n",
    "    for i,n in enumerate(numeros):\n",
    "        numeros[i] *= 2\n",
    "ns = [10,50,100]\n",
    "doblar_valores(ns)\n",
    "ns"
   ]
  },
  {
   "cell_type": "markdown",
   "metadata": {},
   "source": [
    "## Trucos\n",
    "#### Para modificar los tipos simples podemos devolverlos modificados y reasignarlos:"
   ]
  },
  {
   "cell_type": "code",
   "execution_count": 3,
   "metadata": {},
   "outputs": [
    {
     "data": {
      "text/plain": [
       "20"
      ]
     },
     "execution_count": 3,
     "metadata": {},
     "output_type": "execute_result"
    }
   ],
   "source": [
    "def doblar_valor(numero):\n",
    "    return numero*2\n",
    "n = 10\n",
    "n = doblar_valor(n)\n",
    "n"
   ]
  },
  {
   "cell_type": "markdown",
   "metadata": {},
   "source": [
    "#### Y en el caso de los tipos compuestos, podemos evitar la modificación enviando una copia:"
   ]
  },
  {
   "cell_type": "code",
   "execution_count": 4,
   "metadata": {},
   "outputs": [
    {
     "data": {
      "text/plain": [
       "[10, 50, 100]"
      ]
     },
     "execution_count": 4,
     "metadata": {},
     "output_type": "execute_result"
    }
   ],
   "source": [
    "def doblar_valores(numeros):\n",
    "    for i,n in enumerate(numeros):\n",
    "        numeros[i] *= 2\n",
    "ns = [10,50,100]\n",
    "doblar_valores(ns[:])  # Una copia al vuelo de una lista con [:]\n",
    "ns"
   ]
  }
 ],
 "metadata": {
  "kernelspec": {
   "display_name": "Python 3",
   "language": "python",
   "name": "python3"
  },
  "language_info": {
   "codemirror_mode": {
    "name": "ipython",
    "version": 3
   },
   "file_extension": ".py",
   "mimetype": "text/x-python",
   "name": "python",
   "nbconvert_exporter": "python",
   "pygments_lexer": "ipython3",
   "version": "3.7.7"
  }
 },
 "nbformat": 4,
 "nbformat_minor": 1
}
