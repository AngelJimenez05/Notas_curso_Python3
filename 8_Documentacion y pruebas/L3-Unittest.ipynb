{
 "cells": [
  {
   "cell_type": "markdown",
   "metadata": {},
   "source": [
    "## Unittest\n",
    "\n",
    "El módulo Unittest es un estándard para realizar pruebas de código (en cualquier lenguaje).\n",
    "Cuando se utiliza este módulo, se ejecutan varias pruebas en forma de baterias (en conjunto).\n",
    "\n",
    "Cada una de las pruebas puede devolver tres respuestas en función del resultado:\n",
    "\n",
    "* **OK**: Para indicar que la prueba se ha pasado éxitosamente.\n",
    "* **FAIL**: Para indicar que falla la prueba (sentencia verdadero-falso).\n",
    "* **ERROR**: Falla de otro tipo (más general)."
   ]
  },
  {
   "cell_type": "markdown",
   "metadata": {},
   "source": [
    "El siguiente código está escrito en un script:"
   ]
  },
  {
   "cell_type": "markdown",
   "metadata": {},
   "source": [
    "### Funciones propias\n",
    "\n",
    "```python\n",
    "import unittest\n",
    "\n",
    "def doblar(a): return a*2\n",
    "def sumar(a,b): return a+b  \n",
    "def es_par(a): return 1 if a%2 == 0 else 0\n",
    "\n",
    "class PruebasFunciones(unittest.TestCase):\n",
    "# \"assertEqual(,)\" comprueba si el resultado de la función es el mismo que el que nosotros esperamos:\n",
    "    def test_doblar(self):\n",
    "        self.assertEqual(doblar(10), 20)\n",
    "        self.assertEqual(doblar('Ab'), 'AbAb') \n",
    "        \n",
    "    def test_sumar(self):\n",
    "        self.assertEqual(sumar(-15, 15), 0)\n",
    "        self.assertEqual(sumar('Ab' ,'cd'), 'Abcd')\n",
    "\n",
    "    def test_es_par(self):\n",
    "        self.assertEqual(es_par(11), False)\n",
    "        self.assertEqual(es_par(68), True)\n",
    "\n",
    "if __name__ == '__main__':\n",
    "    unittest.main()\n",
    "```\n",
    "Si lo ejecutamos con la instruccion \"-v\", dará el siguiente resultado:\n",
    "```bash\n",
    "...\n",
    "----------------------------------------------------------------------\n",
    "Ran 3 tests in 0.000s\n",
    "\n",
    "OK\n",
    "```"
   ]
  },
  {
   "cell_type": "markdown",
   "metadata": {},
   "source": [
    "### Para el caso de cadenas:\n",
    "\n",
    "```python\n",
    "import unittest\n",
    "\n",
    "class PruebasMetodosCadenas(unittest.TestCase):\n",
    "\n",
    "    def test_upper(self):\n",
    "        self.assertEqual('hola'.upper(), 'HOLA') # \".upper()\" converte a mayúsculas\n",
    "# \"assertTrue\" o \"assertFalse\" comprueban si el argumento es True o False\n",
    "    def test_isupper(self):\n",
    "        self.assertTrue('HOLA'.isupper())  #self.assertTrue(True) == True, por tanto es correcto.\n",
    "        self.assertFalse('Hola'.isupper()) #self.assertFalse(False) == True, por tanto es correcto.\n",
    "\n",
    "    def test_split(self):\n",
    "        s = 'Hola mundo'\n",
    "        self.assertEqual(s.split(), ['Hola', 'mundo'])\n",
    "\n",
    "if __name__ == '__main__':\n",
    "    unittest.main()\n",
    "```\n",
    "Resultado: \n",
    "```bash\n",
    "...\n",
    "----------------------------------------------------------------------\n",
    "Ran 3 tests in 0.000s\n",
    "\n",
    "OK\n",
    "```"
   ]
  }
 ],
 "metadata": {
  "anaconda-cloud": {},
  "kernelspec": {
   "display_name": "Python 3",
   "language": "python",
   "name": "python3"
  },
  "language_info": {
   "codemirror_mode": {
    "name": "ipython",
    "version": 3
   },
   "file_extension": ".py",
   "mimetype": "text/x-python",
   "name": "python",
   "nbconvert_exporter": "python",
   "pygments_lexer": "ipython3",
   "version": "3.7.4"
  }
 },
 "nbformat": 4,
 "nbformat_minor": 1
}
