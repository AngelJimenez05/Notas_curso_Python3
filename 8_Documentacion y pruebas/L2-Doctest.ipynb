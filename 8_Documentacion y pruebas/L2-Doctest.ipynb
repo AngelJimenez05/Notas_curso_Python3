{
 "cells": [
  {
   "cell_type": "markdown",
   "metadata": {},
   "source": [
    "# Doctest\n",
    "\n",
    "Permiten escribir código dentro de la documentación de un objeto en Python, con la finalidad de ayudar a explicar su propósito.\n",
    "\n",
    "Para utilizar **doctest** hay que indicar una línea dentro de la documentación de la siguiente forma:\n",
    "\n",
    "```python\n",
    ">>>\n",
    "```\n",
    "De esta forma, Python ejecutará el codigo hasta encontrar la siguiente linea en blanco.\n",
    "\n",
    "### Un ejemplo es el siguiente:"
   ]
  },
  {
   "cell_type": "markdown",
   "metadata": {},
   "source": [
    "Para realizar una prueba dentro de la función, vamos a ejecutar un código de prueba de la propia suma:"
   ]
  },
  {
   "cell_type": "code",
   "execution_count": 2,
   "metadata": {},
   "outputs": [],
   "source": [
    "# Definimos la siguiente función con su documentación, a su vez que escribimos el resultado que debe ser esperado:\n",
    "def suma(a, b):\n",
    "    \"\"\"Esta función recibe dos parámetros y devuelve la suma de ambos\n",
    "    \n",
    "    >>> suma(5,10)\n",
    "    15\n",
    "    \"\"\"\n",
    "    return a+b"
   ]
  },
  {
   "cell_type": "markdown",
   "metadata": {},
   "source": [
    "Para poder realizar las pruebas al anterior código, se debe guardar en un script (como si fuera un módulo de una sola función, al que llame **test.py**).\n",
    "Al final del script se debe colocar el siguiente código:\n",
    "```python\n",
    "if __name__ == \"__main__\":\n",
    "import doctest\n",
    "doctest.testmod()\n",
    "```\n",
    "Con lo anterior se permite lanzar las pruebas al ejecutar directamente el script.\n",
    "Estas pruebas se realizan en el terminal de la siguiente manera:\n",
    "\n",
    "```bash\n",
    "python test.py -v # Para monitorear el resultado\n",
    "```\n",
    "Y vemos lo siguiente:\n",
    "\n",
    "```bash\n",
    "Trying:\n",
    "    suma(5,10)\n",
    "Expecting:\n",
    "    15\n",
    "ok\n",
    "1 items had no tests:\n",
    "    __main__\n",
    "1 items passed all tests:\n",
    "   1 tests in __main__.suma\n",
    "1 tests in 2 items.\n",
    "1 passed and 0 failed.\n",
    "Test passed.\n",
    "```\n",
    "\n",
    "El programa realiza una comprobación entre lo que realiza la función **suma()** y lo que nosotros colocamos como el resultado esperado.\n",
    "Esta misma característica hace que se pueda realizar bloques de código dentro de la documentación. "
   ]
  },
  {
   "cell_type": "code",
   "execution_count": null,
   "metadata": {},
   "outputs": [],
   "source": []
  }
 ],
 "metadata": {
  "anaconda-cloud": {},
  "kernelspec": {
   "display_name": "Python 3",
   "language": "python",
   "name": "python3"
  },
  "language_info": {
   "codemirror_mode": {
    "name": "ipython",
    "version": 3
   },
   "file_extension": ".py",
   "mimetype": "text/x-python",
   "name": "python",
   "nbconvert_exporter": "python",
   "pygments_lexer": "ipython3",
   "version": "3.7.4"
  }
 },
 "nbformat": 4,
 "nbformat_minor": 1
}
