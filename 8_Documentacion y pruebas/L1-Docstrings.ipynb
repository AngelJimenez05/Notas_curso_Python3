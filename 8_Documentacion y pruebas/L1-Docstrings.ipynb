{
 "cells": [
  {
   "cell_type": "markdown",
   "metadata": {},
   "source": [
    "# Docstrings"
   ]
  },
  {
   "cell_type": "markdown",
   "metadata": {},
   "source": [
    "Son cadenas de documentación que dan información útil (documentación) de ciertos objetos. Todos los objetos en Python tienen Docstrings."
   ]
  },
  {
   "cell_type": "markdown",
   "metadata": {},
   "source": [
    "## Docstrings en funciones\n",
    "\n",
    "Se establecen en la primera linea después de definir la función:"
   ]
  },
  {
   "cell_type": "code",
   "execution_count": 15,
   "metadata": {},
   "outputs": [],
   "source": [
    "def hola(arg):\n",
    "    \"\"\"Este es el docstring de la función\"\"\"\n",
    "    print(\"Hola {}!\".format(arg))"
   ]
  },
  {
   "cell_type": "code",
   "execution_count": 16,
   "metadata": {},
   "outputs": [
    {
     "name": "stdout",
     "output_type": "stream",
     "text": [
      "Hola Ángel!\n"
     ]
    }
   ],
   "source": [
    "hola(\"Ángel\")"
   ]
  },
  {
   "cell_type": "markdown",
   "metadata": {},
   "source": [
    "Para llamar a la documentación, se hace llamar a la función help() y como argumento la función a revisar:"
   ]
  },
  {
   "cell_type": "code",
   "execution_count": 17,
   "metadata": {},
   "outputs": [
    {
     "name": "stdout",
     "output_type": "stream",
     "text": [
      "Help on function hola in module __main__:\n",
      "\n",
      "hola(arg)\n",
      "    Este es el docstring de la función\n",
      "\n"
     ]
    }
   ],
   "source": [
    "help(hola)"
   ]
  },
  {
   "cell_type": "markdown",
   "metadata": {},
   "source": [
    "## Docstrings en clases y métodos\n",
    "Funciona igual que en las funciones:"
   ]
  },
  {
   "cell_type": "code",
   "execution_count": 18,
   "metadata": {},
   "outputs": [],
   "source": [
    "# Definimos una clase genérica:\n",
    "class Clase:\n",
    "    \"\"\" Este es el docstring de la clase\"\"\"\n",
    "    \n",
    "    def __init__(self):\n",
    "        \"\"\"Este es el docstring del inicializador de clase\"\"\"\n",
    "\n",
    "    def metodo(self):\n",
    "        \"\"\"Este es el docstring del metodo de clase\"\"\""
   ]
  },
  {
   "cell_type": "code",
   "execution_count": 20,
   "metadata": {
    "scrolled": true
   },
   "outputs": [
    {
     "name": "stdout",
     "output_type": "stream",
     "text": [
      "Help on Clase in module __main__ object:\n",
      "\n",
      "class Clase(builtins.object)\n",
      " |  Este es el docstring de la clase\n",
      " |  \n",
      " |  Methods defined here:\n",
      " |  \n",
      " |  __init__(self)\n",
      " |      Este es el docstring del inicializador de clase\n",
      " |  \n",
      " |  metodo(self)\n",
      " |      Este es el docstring del metodo de clase\n",
      " |  \n",
      " |  ----------------------------------------------------------------------\n",
      " |  Data descriptors defined here:\n",
      " |  \n",
      " |  __dict__\n",
      " |      dictionary for instance variables (if defined)\n",
      " |  \n",
      " |  __weakref__\n",
      " |      list of weak references to the object (if defined)\n",
      "\n"
     ]
    }
   ],
   "source": [
    "help(Clase())"
   ]
  },
  {
   "cell_type": "markdown",
   "metadata": {},
   "source": [
    "## Docstrings en scripts y módulos"
   ]
  },
  {
   "cell_type": "markdown",
   "metadata": {},
   "source": [
    "Se definen en la primera lineal del script o módulo.\n",
    "\n",
    "El siguiente texto es el contenido del módulo: \"mi_modulo\" escrito en python:"
   ]
  },
  {
   "cell_type": "markdown",
   "metadata": {},
   "source": [
    "```python\n",
    "\"\"\"Este es el docstring del módulo\"\"\"\n",
    "\n",
    "def despedir():\n",
    "    \"\"\"Este es el docstring de la función despedir\"\"\"\n",
    "    print(\"Adiós! Me estoy despidiendo desde la función despedir() del módulo prueba\")\n",
    "    \n",
    "def saludar():\n",
    "     \"\"\"Este es el docstring de la función saludar\"\"\"\n",
    "    print(\"Hola! Te estoy saludando desde la función saludar() del módulo prueba\")\n",
    "```"
   ]
  },
  {
   "cell_type": "code",
   "execution_count": 21,
   "metadata": {},
   "outputs": [
    {
     "name": "stdout",
     "output_type": "stream",
     "text": [
      "Help on module mi_modulo:\n",
      "\n",
      "NAME\n",
      "    mi_modulo - Este es el docstring del módulo\n",
      "\n",
      "FUNCTIONS\n",
      "    despedir()\n",
      "        Este es el docstring de la función despedir\n",
      "    \n",
      "    saludar()\n",
      "        Este es el docstring de la función saludar\n",
      "\n",
      "FILE\n",
      "    c:\\users\\ángel jiménez rico\\onedrive - universidad nacional autónoma de méxico\\python_udemy_curses\\curso_python3\\git_hub\\curso_python3\\9_documentacion y pruebas\\apuntes\\mi_modulo.py\n",
      "\n",
      "\n"
     ]
    }
   ],
   "source": [
    "import mi_modulo  # Este módulo lo he creado en el directorio\n",
    "\n",
    "help(mi_modulo)"
   ]
  },
  {
   "cell_type": "code",
   "execution_count": 24,
   "metadata": {},
   "outputs": [
    {
     "name": "stdout",
     "output_type": "stream",
     "text": [
      "Help on function despedir in module mi_modulo:\n",
      "\n",
      "despedir()\n",
      "    Este es el docstring de la función despedir\n",
      "\n"
     ]
    }
   ],
   "source": [
    "# Para ver sólo una cadena de doncumentación específica:\n",
    "help(mi_modulo.despedir) "
   ]
  },
  {
   "cell_type": "markdown",
   "metadata": {},
   "source": [
    "Se pueden también enlistar las variables y funciones del módulo con la función **dir**:"
   ]
  },
  {
   "cell_type": "code",
   "execution_count": 25,
   "metadata": {},
   "outputs": [
    {
     "data": {
      "text/plain": [
       "['__builtins__',\n",
       " '__cached__',\n",
       " '__doc__',\n",
       " '__file__',\n",
       " '__loader__',\n",
       " '__name__',\n",
       " '__package__',\n",
       " '__spec__',\n",
       " 'despedir',\n",
       " 'saludar']"
      ]
     },
     "execution_count": 25,
     "metadata": {},
     "output_type": "execute_result"
    }
   ],
   "source": [
    "dir(mi_modulo)"
   ]
  },
  {
   "cell_type": "markdown",
   "metadata": {},
   "source": [
    "Por ejemplo:"
   ]
  },
  {
   "cell_type": "code",
   "execution_count": 28,
   "metadata": {},
   "outputs": [
    {
     "data": {
      "text/plain": [
       "'mi_modulo'"
      ]
     },
     "execution_count": 28,
     "metadata": {},
     "output_type": "execute_result"
    }
   ],
   "source": [
    "mi_modulo.__name__ # Nombre del módulo"
   ]
  },
  {
   "cell_type": "code",
   "execution_count": 30,
   "metadata": {},
   "outputs": [
    {
     "data": {
      "text/plain": [
       "'Este es el docstring del módulo'"
      ]
     },
     "execution_count": 30,
     "metadata": {},
     "output_type": "execute_result"
    }
   ],
   "source": [
    "mi_modulo.__doc__ # La documentación del módulo"
   ]
  },
  {
   "cell_type": "markdown",
   "metadata": {},
   "source": [
    "## Docstrings en paquetes\n",
    "Se deben establecer en la primera línea del inicializador **init**:\n",
    "#### El contenido del incializador  ______init______.py es el siguiente:\n",
    "```python\n",
    "\"\"\" Este es el docstring de mi_paquete \"\"\"\n",
    "```"
   ]
  },
  {
   "cell_type": "code",
   "execution_count": 31,
   "metadata": {},
   "outputs": [],
   "source": [
    "import mi_paquete"
   ]
  },
  {
   "cell_type": "code",
   "execution_count": 32,
   "metadata": {},
   "outputs": [
    {
     "name": "stdout",
     "output_type": "stream",
     "text": [
      "Help on package mi_paquete:\n",
      "\n",
      "NAME\n",
      "    mi_paquete - Este es el docstring de mi_paquete\n",
      "\n",
      "PACKAGE CONTENTS\n",
      "    adios (package)\n",
      "    hola (package)\n",
      "\n",
      "FILE\n",
      "    c:\\users\\ángel jiménez rico\\onedrive - universidad nacional autónoma de méxico\\python_udemy_curses\\curso_python3\\git_hub\\curso_python3\\9_documentacion y pruebas\\apuntes\\mi_paquete\\__init__.py\n",
      "\n",
      "\n"
     ]
    }
   ],
   "source": [
    "help(mi_paquete)"
   ]
  },
  {
   "cell_type": "markdown",
   "metadata": {},
   "source": [
    "# Cómo crear una buena documentación:\n",
    "Puedo ver cómo se han escrito otras docstrings de algunas funciones integradas de Python:\n",
    "- Puedo ver que responden a las siguientes preguntas:\n",
    "\n",
    "    - ¿Para qué sirve?\n",
    "    - ¿Cómo se usa?"
   ]
  },
  {
   "cell_type": "code",
   "execution_count": 32,
   "metadata": {},
   "outputs": [
    {
     "name": "stdout",
     "output_type": "stream",
     "text": [
      "Help on built-in function print in module builtins:\n",
      "\n",
      "print(...)\n",
      "    print(value, ..., sep=' ', end='\\n', file=sys.stdout, flush=False)\n",
      "    \n",
      "    Prints the values to a stream, or to sys.stdout by default.\n",
      "    Optional keyword arguments:\n",
      "    file:  a file-like object (stream); defaults to the current sys.stdout.\n",
      "    sep:   string inserted between values, default a space.\n",
      "    end:   string appended after the last value, default a newline.\n",
      "    flush: whether to forcibly flush the stream.\n",
      "\n"
     ]
    }
   ],
   "source": [
    "help(print)"
   ]
  },
  {
   "cell_type": "code",
   "execution_count": 34,
   "metadata": {},
   "outputs": [
    {
     "name": "stdout",
     "output_type": "stream",
     "text": [
      "Help on built-in function len in module builtins:\n",
      "\n",
      "len(obj, /)\n",
      "    Return the number of items in a container.\n",
      "\n"
     ]
    }
   ],
   "source": [
    "help(len)"
   ]
  }
 ],
 "metadata": {
  "anaconda-cloud": {},
  "kernelspec": {
   "display_name": "Python 3",
   "language": "python",
   "name": "python3"
  },
  "language_info": {
   "codemirror_mode": {
    "name": "ipython",
    "version": 3
   },
   "file_extension": ".py",
   "mimetype": "text/x-python",
   "name": "python",
   "nbconvert_exporter": "python",
   "pygments_lexer": "ipython3",
   "version": "3.7.4"
  }
 },
 "nbformat": 4,
 "nbformat_minor": 1
}
